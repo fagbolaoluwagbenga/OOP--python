{
 "cells": [
  {
   "cell_type": "code",
   "execution_count": 1,
   "metadata": {},
   "outputs": [],
   "source": [
    "#DEFINE A CLASS\n",
    "#FROM THE SLIDES YOU CAN SEE THAT AN OBJECT IS AN INSTANCE OF A CLASS\n",
    "#AND CLASSES HAVE TWO MAIN PARTS, ITS ATTRIBUTES AND ITS METHODS (IE WHAT DOES IT DO..)\n",
    "\n",
    "#BASIC STRUCTURE OF A CLASS\n",
    "#In this example we are defining a Person class\n",
    "class Person(object):\n",
    "    #the argument passed in is the object as objects are instances of the class    \n",
    "    \n",
    "    #Define Person Attributes\n",
    "    #Notice the syntax of init and self\n",
    "    #init means initialised when object is created from this class\n",
    "    #self means the object itself\n",
    "    def __init__(self):\n",
    "        self.name = \"John Smith\"\n",
    "        self.speed = 5\n",
    "        self.eye_colour = \"Brown\"\n",
    "        self.hair_colour = \"Light Brown\"\n",
    "        self.height = 177\n",
    "        self.shoe_size = 11\n",
    "    \n",
    "    #Methods of the class, what can this object do?\n",
    "    #Notice we have to pass in self in the methods of the class\n",
    "    #The reason for this is because we are using the object itself's attributes \n",
    "    # Such as name and speed.\n",
    "    def run(self):\n",
    "        return \"{0} is running at {1} m/s\".format(self.name, self.speed)"
   ]
  },
  {
   "cell_type": "code",
   "execution_count": 4,
   "metadata": {},
   "outputs": [],
   "source": [
    "#Define an Object which is an instance of the Class\n",
    "john_smith = Person()\n",
    "\n",
    "#We can define another object of the same class\n",
    "andrea_bolden = Person()"
   ]
  },
  {
   "cell_type": "code",
   "execution_count": 5,
   "metadata": {},
   "outputs": [
    {
     "name": "stdout",
     "output_type": "stream",
     "text": [
      "John Smith\n",
      "John Smith\n"
     ]
    }
   ],
   "source": [
    "#You can see the attributes of each object.. Note the attributes of the person class come \n",
    "#as defaults from above\n",
    "print(john_smith.name)\n",
    "print(andrea_bolden.name)"
   ]
  },
  {
   "cell_type": "code",
   "execution_count": 6,
   "metadata": {},
   "outputs": [
    {
     "name": "stdout",
     "output_type": "stream",
     "text": [
      "Andrea Bolden\n",
      "John Smith\n"
     ]
    }
   ],
   "source": [
    "#Something is not right.. Andrea's name is John Smith\n",
    "#You can change an attributes value by:\n",
    "andrea_bolden.name = \"Andrea Bolden\"\n",
    "print(andrea_bolden.name)\n",
    "print(john_smith.name)"
   ]
  },
  {
   "cell_type": "code",
   "execution_count": 7,
   "metadata": {},
   "outputs": [
    {
     "data": {
      "text/plain": [
       "'John Smith is running at 5 m/s'"
      ]
     },
     "execution_count": 7,
     "metadata": {},
     "output_type": "execute_result"
    }
   ],
   "source": [
    "#You can also access the objects methods by:\n",
    "john_smith.run()"
   ]
  },
  {
   "cell_type": "code",
   "execution_count": 8,
   "metadata": {},
   "outputs": [],
   "source": [
    "#In this example we let the programmer define the name and speed before creating the object\n",
    "#Note we also add a default value to these values.\n",
    "#If the user decides not to name or set a speed for their object \n",
    "#the defaults will be used..\n",
    "class Person(object):\n",
    "    \n",
    "    def __init__(self, name=\"John Smith\", speed = 5):\n",
    "        self.name = name\n",
    "        self.speed = speed\n",
    "    \n",
    "    def run(self):\n",
    "        return \"{0} is running at {1} m/s\".format(self.name, self.speed)"
   ]
  },
  {
   "cell_type": "code",
   "execution_count": 66,
   "metadata": {},
   "outputs": [
    {
     "name": "stdout",
     "output_type": "stream",
     "text": [
      "andrea is running at 7 m/s\n"
     ]
    }
   ],
   "source": [
    "andrea = Person(name = \"andrea\", speed=7)\n",
    "print(andrea.run())"
   ]
  },
  {
   "cell_type": "code",
   "execution_count": 9,
   "metadata": {},
   "outputs": [
    {
     "name": "stdout",
     "output_type": "stream",
     "text": [
      "peter is running at 5 m/s\n",
      "John Smith is running at 5 m/s\n"
     ]
    }
   ],
   "source": [
    "peter = Person(name=\"peter\") #Note I am not setting the speed, therefore default will be used\n",
    "print(peter.run())\n",
    "\n",
    "john = Person() #Not setting any attributes all defaults will be used\n",
    "print(john.run())"
   ]
  },
  {
   "cell_type": "code",
   "execution_count": 10,
   "metadata": {},
   "outputs": [
    {
     "data": {
      "text/plain": [
       "'eat method passed to another object'"
      ]
     },
     "execution_count": 10,
     "metadata": {},
     "output_type": "execute_result"
    }
   ],
   "source": [
    "#Another important Concept is that one Objects method can be passed\n",
    "#to another object\n",
    "class Person(object):\n",
    "    \n",
    "    def eat(self):\n",
    "        return \"eat method passed to another object\"\n",
    "\n",
    "class AnotherPerson(object):\n",
    "    \n",
    "    def notEat(self, person):\n",
    "        return person.eat()\n",
    "\n",
    "#Initialise instance of objects from the classes\n",
    "person = Person()\n",
    "anotherPerson = AnotherPerson()\n",
    "\n",
    "#Notice how I passed in the object person into the object anotherPerson\n",
    "#and used their method!\n",
    "anotherPerson.notEat(person)\n",
    "\n",
    "#Understanding and using this is critical for the final project"
   ]
  },
  {
   "cell_type": "code",
   "execution_count": null,
   "metadata": {},
   "outputs": [],
   "source": []
  },
  {
   "cell_type": "markdown",
   "metadata": {},
   "source": [
    "OOP Exercise\n",
    "Create a class that defines a dog. The Dog has attributes of name, colour, breed and gender.\n",
    "\n",
    "Each of the attributes should have a default value and allows the user to initialise with custom attributes. \n",
    "\n",
    "Only the name should be inputted by the user via input(). The rest of the attributes are default values.\n",
    "\n",
    "The class dog should also have methods of bark and run, you can define the methods to do whatever you want. But preferrable if the methods take in a few arguments. \n"
   ]
  },
  {
   "cell_type": "code",
   "execution_count": null,
   "metadata": {},
   "outputs": [],
   "source": [
    "\n",
    "\n",
    "\n",
    "\n",
    "\n",
    "\n",
    "\n",
    "\n",
    "\n",
    "\n",
    "\n",
    "\n",
    "\n",
    "\n",
    "\n",
    "\n",
    "\n",
    "\n",
    "\n",
    "\n",
    "\n",
    "\n",
    "\n",
    "\n",
    "\n",
    "\n",
    "\n",
    "\n",
    "\n",
    "\n"
   ]
  },
  {
   "cell_type": "code",
   "execution_count": 1,
   "metadata": {},
   "outputs": [
    {
     "name": "stdout",
     "output_type": "stream",
     "text": [
      "harry \n",
      "harry \n",
      "golden brown\n",
      "harry  is barking at a tree, in front of mum\n",
      "harry  is running in mud, rain and forest\n"
     ]
    }
   ],
   "source": [
    "#OOP Exercise Solution\n",
    "\n",
    "class Dog(object):\n",
    "    \n",
    "    def __init__(self, name=\"Bro\", colour=\"golden brown\", breed=\"golden retriever\", gender=\"female\"):\n",
    "        self.name = name\n",
    "        self.colour = colour\n",
    "        self.breed = breed\n",
    "        self.gender = gender\n",
    "        \n",
    "    def bark(self, var1, var2):\n",
    "        return \"{0} is barking at a {1}, in front of {2}\".format(self.name, var1, var2)\n",
    "    \n",
    "    def run(self, var1, var2, var3):\n",
    "        return \"{0} is running in {1}, {2} and {3}\".format(self.name, var1, var2, var3)\n",
    "\n",
    "name = input()\n",
    "harry = Dog(name = name)\n",
    "print(harry.name)\n",
    "print(harry.colour)\n",
    "print(harry.bark(\"tree\", \"mum\"))\n",
    "print(harry.run(\"mud\",\"rain\",\"forest\"))"
   ]
  },
  {
   "cell_type": "code",
   "execution_count": null,
   "metadata": {},
   "outputs": [],
   "source": []
  },
  {
   "cell_type": "code",
   "execution_count": null,
   "metadata": {},
   "outputs": [],
   "source": []
  },
  {
   "cell_type": "code",
   "execution_count": null,
   "metadata": {},
   "outputs": [],
   "source": []
  },
  {
   "cell_type": "code",
   "execution_count": null,
   "metadata": {},
   "outputs": [],
   "source": []
  },
  {
   "cell_type": "code",
   "execution_count": null,
   "metadata": {},
   "outputs": [],
   "source": []
  }
 ],
 "metadata": {
  "kernelspec": {
   "display_name": "Python 3",
   "language": "python",
   "name": "python3"
  },
  "language_info": {
   "codemirror_mode": {
    "name": "ipython",
    "version": 3
   },
   "file_extension": ".py",
   "mimetype": "text/x-python",
   "name": "python",
   "nbconvert_exporter": "python",
   "pygments_lexer": "ipython3",
   "version": "3.6.3"
  }
 },
 "nbformat": 4,
 "nbformat_minor": 2
}
